{
 "cells": [
  {
   "cell_type": "code",
   "execution_count": 43,
   "id": "acd6e3ac",
   "metadata": {},
   "outputs": [],
   "source": [
    "def MySqrt(x):\n",
    "    if x < 1:\n",
    "        return 0\n",
    "    l, r = 0, x\n",
    "    while l <= r:\n",
    "        mid = l + (r - l) // 2\n",
    "        if mid * mid <= x < (mid + 1) * (mid + 1):\n",
    "            return int(mid)\n",
    "        elif x < mid * mid:\n",
    "            r = mid\n",
    "        else:\n",
    "            l = mid + 1"
   ]
  },
  {
   "cell_type": "code",
   "execution_count": 48,
   "id": "09dda569",
   "metadata": {},
   "outputs": [
    {
     "data": {
      "text/plain": [
       "2"
      ]
     },
     "execution_count": 48,
     "metadata": {},
     "output_type": "execute_result"
    }
   ],
   "source": [
    "MySqrt(8)"
   ]
  },
  {
   "cell_type": "code",
   "execution_count": null,
   "id": "c73e821a",
   "metadata": {},
   "outputs": [],
   "source": []
  }
 ],
 "metadata": {
  "kernelspec": {
   "display_name": "Python 3 (ipykernel)",
   "language": "python",
   "name": "python3"
  },
  "language_info": {
   "codemirror_mode": {
    "name": "ipython",
    "version": 3
   },
   "file_extension": ".py",
   "mimetype": "text/x-python",
   "name": "python",
   "nbconvert_exporter": "python",
   "pygments_lexer": "ipython3",
   "version": "3.9.12"
  }
 },
 "nbformat": 4,
 "nbformat_minor": 5
}
