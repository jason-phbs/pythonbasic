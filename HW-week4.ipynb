{
 "cells": [
  {
   "cell_type": "markdown",
   "id": "9fe845c9",
   "metadata": {},
   "source": [
    "### Homework 1"
   ]
  },
  {
   "cell_type": "code",
   "execution_count": 12,
   "id": "272cf1d4",
   "metadata": {},
   "outputs": [],
   "source": [
    "def uniquePaths(m: int, n: int) -> int:\n",
    "    dp = [[1] * n] + [[1] + [0] * (n - 1)] * (m - 1)\n",
    "    for i in range(1, m):\n",
    "        for j in range(1, n):\n",
    "            dp[i][j] = dp[i - 1][j] + dp[i][j - 1]\n",
    "    return dp[-1][-1]"
   ]
  },
  {
   "cell_type": "code",
   "execution_count": 13,
   "id": "78d47c9b",
   "metadata": {},
   "outputs": [
    {
     "data": {
      "text/plain": [
       "3"
      ]
     },
     "execution_count": 13,
     "metadata": {},
     "output_type": "execute_result"
    }
   ],
   "source": [
    "uniquePaths(3,2)"
   ]
  },
  {
   "cell_type": "code",
   "execution_count": 14,
   "id": "c14b0928",
   "metadata": {},
   "outputs": [
    {
     "data": {
      "text/plain": [
       "28"
      ]
     },
     "execution_count": 14,
     "metadata": {},
     "output_type": "execute_result"
    }
   ],
   "source": [
    "uniquePaths(3,7)"
   ]
  },
  {
   "cell_type": "markdown",
   "id": "15e03f20",
   "metadata": {},
   "source": [
    "### Homework 2"
   ]
  },
  {
   "cell_type": "code",
   "execution_count": 7,
   "id": "c7f2ed07",
   "metadata": {},
   "outputs": [],
   "source": [
    "def lengthOfLIS(nums: [int]) -> int:\n",
    "    tails, res = [0] * len(nums), 0\n",
    "    for num in nums:\n",
    "        i, j = 0, res\n",
    "        while i < j:\n",
    "            m = (i + j) // 2\n",
    "            if tails[m] < num: i = m + 1\n",
    "            else: j = m\n",
    "        tails[i] = num\n",
    "        if j == res: res += 1\n",
    "    return res"
   ]
  },
  {
   "cell_type": "code",
   "execution_count": 10,
   "id": "e3914167",
   "metadata": {},
   "outputs": [
    {
     "data": {
      "text/plain": [
       "4"
      ]
     },
     "execution_count": 10,
     "metadata": {},
     "output_type": "execute_result"
    }
   ],
   "source": [
    "nums1 = [0,1,0,3,2,3]\n",
    "lengthOfLIS(nums1)"
   ]
  },
  {
   "cell_type": "code",
   "execution_count": 11,
   "id": "2ad65f77",
   "metadata": {},
   "outputs": [
    {
     "data": {
      "text/plain": [
       "4"
      ]
     },
     "execution_count": 11,
     "metadata": {},
     "output_type": "execute_result"
    }
   ],
   "source": [
    "nums2 = [10,9,2,5,3,7,101,18]\n",
    "lengthOfLIS(nums2)"
   ]
  },
  {
   "cell_type": "code",
   "execution_count": null,
   "id": "3cb87c5e",
   "metadata": {},
   "outputs": [],
   "source": []
  }
 ],
 "metadata": {
  "kernelspec": {
   "display_name": "Python 3 (ipykernel)",
   "language": "python",
   "name": "python3"
  },
  "language_info": {
   "codemirror_mode": {
    "name": "ipython",
    "version": 3
   },
   "file_extension": ".py",
   "mimetype": "text/x-python",
   "name": "python",
   "nbconvert_exporter": "python",
   "pygments_lexer": "ipython3",
   "version": "3.9.12"
  }
 },
 "nbformat": 4,
 "nbformat_minor": 5
}
