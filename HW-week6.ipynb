{
 "cells": [
  {
   "cell_type": "markdown",
   "id": "1326e0e5",
   "metadata": {},
   "source": [
    "#### HW1 Extract the first page of all pdfs in the \"mypdfs \" folder and merge them into one pdf file named \"new.pdf\""
   ]
  },
  {
   "cell_type": "code",
   "execution_count": 3,
   "id": "f511b37f",
   "metadata": {},
   "outputs": [
    {
     "name": "stdout",
     "output_type": "stream",
     "text": [
      "[WindowsPath('mypdfs/1905.05406.pdf'), WindowsPath('mypdfs/1908.02426.pdf'), WindowsPath('mypdfs/2103.07579.pdf'), WindowsPath('mypdfs/2106.13112.pdf'), WindowsPath('mypdfs/2109.05673.pdf')]\n"
     ]
    }
   ],
   "source": [
    "from pathlib import Path\n",
    " \n",
    "path = Path(r\"mypdfs\")\n",
    "pdf_files = [p for p in path.glob(\"*.pdf\")]\n",
    "print(pdf_files)\n",
    "\n",
    "from PyPDF4 import PdfFileReader, PdfFileMerger, PdfFileWriter\n",
    "newfilelist = []\n",
    "for file in pdf_files: \n",
    "    with open(file, \"rb\") as pdf_file: \n",
    "        pdf = PdfFileReader(pdf_file) \n",
    "        page = pdf.getPage(0) \n",
    "    \n",
    "        writer = PdfFileWriter() \n",
    "        writer.addPage(page) \n",
    "    \n",
    "\n",
    "        newfile = file.name[:-4]+'_new.pdf'\n",
    "        newfilelist.append(newfile)\n",
    "        with open(newfile, \"wb\") as output:\n",
    "             writer.write(output)\n",
    "\n",
    "merger = PdfFileMerger()\n",
    "for file_name in newfilelist:\n",
    "    merger.append(file_name)\n",
    "merger.write(\"new.pdf\")\n",
    "merger.close()\n",
    "\n",
    "import os\n",
    "for file_name in newfilelist:\n",
    "    os.remove(file_name)"
   ]
  },
  {
   "cell_type": "markdown",
   "id": "562cfcae",
   "metadata": {},
   "source": [
    "#### HW2 Take the abstracts of the first 20 papers in the given URL, translate them into Chinese, and write them into the file named 'my_abstract.txt’. \n",
    "##### URL = https://openaccess.thecvf.com/ICCV2021?day=2021-10-12"
   ]
  },
  {
   "cell_type": "markdown",
   "id": "551bed0c",
   "metadata": {},
   "source": [
    "### method 1: use translate"
   ]
  },
  {
   "cell_type": "code",
   "execution_count": 5,
   "id": "45f8b551",
   "metadata": {},
   "outputs": [],
   "source": [
    "import os\n",
    "import requests\n",
    "from bs4 import BeautifulSoup\n",
    "import re\n",
    "\n",
    "def get_paper_links(url):\n",
    "    response = requests.get(url)\n",
    "    bs = BeautifulSoup(response.text, \"html.parser\")\n",
    "    links = bs.find_all(href=re.compile('/papers/.*.pdf'))\n",
    "    paper_links = [\"https://openaccess.thecvf.com\" + link.get('href') for link in links[:20]]\n",
    "    return paper_links\n",
    "\n",
    "def main():\n",
    "    url = \"https://openaccess.thecvf.com/ICCV2021?day=2021-10-12\"\n",
    "    paper_links = get_paper_links(url)\n",
    "    directory = \"ICCV\"\n",
    "\n",
    "    if not os.path.exists(directory):\n",
    "        os.makedirs(directory)\n",
    "\n",
    "    for i, link in enumerate(paper_links):\n",
    "        response = requests.get(link)\n",
    "        with open(os.path.join(directory, f'paper{i+1}.pdf'), 'wb') as f:\n",
    "            f.write(response.content)\n",
    "\n",
    "if __name__ == \"__main__\":\n",
    "    main()"
   ]
  },
  {
   "cell_type": "code",
   "execution_count": 6,
   "id": "d53fde7e",
   "metadata": {},
   "outputs": [],
   "source": [
    "import fitz  # PyMuPDF\n",
    "from translate import Translator\n",
    "\n",
    "def extract_pdf_abstract(pdf_path):\n",
    "    # Extract text from the first page of the PDF\n",
    "    doc = fitz.open(pdf_path)\n",
    "    first_page = doc.load_page(0)\n",
    "    text = first_page.get_text()\n",
    "    doc.close()\n",
    "    return text\n",
    "\n",
    "def translate_text(text, target_language='zh-cn'):\n",
    "    # Translate text using the translate library\n",
    "    translator= Translator(to_lang=target_language)\n",
    "    translation = translator.translate(text)\n",
    "    return translation\n",
    "\n",
    "def main():\n",
    "    pdf_files = ['./ICCV/' + file for file in os.listdir('./ICCV/')]\n",
    "    translated_abstracts = []\n",
    "\n",
    "\n",
    "    for pdf_file in pdf_files:\n",
    "        abstract = extract_pdf_abstract(pdf_file)\n",
    "        translated_abstract = translate_text(abstract[:500])\n",
    "        translated_abstracts.append(translated_abstract)\n",
    "\n",
    "    # Write translated abstracts to a file\n",
    "    with open('my_abstract.txt', 'w', encoding='utf-8') as file:\n",
    "        for i, translated_abstract in enumerate(translated_abstracts):\n",
    "            file.write(f'Paper {i + 1}:\\n')\n",
    "            file.write(translated_abstract + '\\n\\n')\n",
    "\n",
    "if __name__ == \"__main__\":\n",
    "    main()\n"
   ]
  },
  {
   "cell_type": "markdown",
   "id": "2465d44b",
   "metadata": {},
   "source": [
    "### method 2: use baidu API"
   ]
  },
  {
   "cell_type": "code",
   "execution_count": 7,
   "id": "81bd74ae",
   "metadata": {},
   "outputs": [],
   "source": [
    "import requests\n",
    "from bs4 import BeautifulSoup\n",
    "import re\n",
    "import random\n",
    "from hashlib import md5\n",
    "import time"
   ]
  },
  {
   "cell_type": "code",
   "execution_count": 22,
   "id": "f7a9875f",
   "metadata": {},
   "outputs": [],
   "source": [
    "def getUrl(url):\n",
    "    response = requests.get(url)\n",
    "    pdfUrl = []\n",
    "    count = 0\n",
    "    bs = BeautifulSoup(response.text,\"html.parser\")  # Parse the HTML content of the response using BeautifulSoup\n",
    "    pdfs = bs.find_all(href=re.compile('/content/.*html')) # Find all anchor tags with href attribute matching the specified pattern\n",
    "    names = []\n",
    "    for tag in pdfs:\n",
    "        if count < 20:  # Limit the count to 20\n",
    "            pdfUrl.append(\"https://openaccess.thecvf.com\"+tag.get(\"href\"))\n",
    "            count = count+1\n",
    "            # Extract the name from the href attribute and modify it before appending to the names list\n",
    "            names.append(re.split('[./]', tag.get(\"href\"))[-2][:-16].replace(\"_\",\" \")) \n",
    "        else: break\n",
    "    return names,pdfUrl\n",
    "\n",
    "\n",
    "def getAbstract(paperUrls):\n",
    "    abstract = []\n",
    "    for url in paperUrls:\n",
    "        response = requests.get(url)\n",
    "        bs = BeautifulSoup(response.text,\"html.parser\")\n",
    "        abstract.append(bs.find(id=\"abstract\").text.strip()) #get the content of id \"abstract\"\n",
    "    return abstract\n",
    "\n",
    "def translate_api(input_text):\n",
    "    # Set your own appid/appkey.\n",
    "    appid = '20231228001923967'\n",
    "    appkey = 'cHWnOFT64jrV0FZKsNHN'\n",
    "    def make_md5(s, encoding='utf-8'):\n",
    "        return md5(s.encode(encoding)).hexdigest()\n",
    "    # For list of language codes, please refer to `https://api.fanyi.baidu.com/doc/21`\n",
    "    from_lang = 'en'\n",
    "    to_lang = 'zh'\n",
    "    endpoint = 'http://api.fanyi.baidu.com'\n",
    "    path = '/api/trans/vip/translate'\n",
    "    url = endpoint + path\n",
    "    \n",
    "    query = input_text\n",
    "    # Generate salt and sign\n",
    "    salt = random.randint(32768, 65536)\n",
    "    sign = make_md5(appid + query + str(salt) + appkey)\n",
    "    # Build request\n",
    "    headers = {'Content-Type': 'application/x-www-form-urlencoded'}\n",
    "    payload = {'appid': appid, 'q': query, 'from': from_lang, 'to': to_lang, 'salt': salt, 'sign': sign}\n",
    "    # Send request\n",
    "    r = requests.post(url, params=payload, headers=headers)\n",
    "    result = r.json()\n",
    "    print(result)\n",
    "    if 'trans_result' in result:\n",
    "        return result['trans_result'][0]['dst']\n",
    "    else:\n",
    "        print(\"Error: \", result)\n",
    "        return None\n",
    "\n",
    "\n",
    "def write2txt(path,title,contents):\n",
    "    with open(path,\"w\") as f:\n",
    "        for ti,con in zip(title,contents):\n",
    "            f.write(ti+\"\\n\")\n",
    "            f.write(con+\"\\n\")\n",
    "            f.write(\"\\n\")"
   ]
  },
  {
   "cell_type": "code",
   "execution_count": 25,
   "id": "b94c8aa8",
   "metadata": {},
   "outputs": [],
   "source": [
    "web = \"https://openaccess.thecvf.com/ICCV2021?day=2021-10-12\"\n",
    "name,pdfurls = getUrl(web)\n",
    "abstracts = getAbstract(pdfurls)\n",
    "ch_abstracts = []"
   ]
  },
  {
   "cell_type": "code",
   "execution_count": 26,
   "id": "a2333a3e",
   "metadata": {},
   "outputs": [],
   "source": [
    "for ab in abstracts:\n",
    "    temp = translate_api(ab)\n",
    "    ch_abstracts.append(temp)\n",
    "    time.sleep(1)\n",
    "write2txt(\"./my_abstract.txt\",name,ch_abstracts)"
   ]
  }
 ],
 "metadata": {
  "kernelspec": {
   "display_name": "Python 3 (ipykernel)",
   "language": "python",
   "name": "python3"
  },
  "language_info": {
   "codemirror_mode": {
    "name": "ipython",
    "version": 3
   },
   "file_extension": ".py",
   "mimetype": "text/x-python",
   "name": "python",
   "nbconvert_exporter": "python",
   "pygments_lexer": "ipython3",
   "version": "3.9.12"
  }
 },
 "nbformat": 4,
 "nbformat_minor": 5
}
