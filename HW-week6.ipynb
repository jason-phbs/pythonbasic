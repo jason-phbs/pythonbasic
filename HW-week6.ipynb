{
 "cells": [
  {
   "cell_type": "markdown",
   "id": "60712a92",
   "metadata": {},
   "source": [
    "#### HW1 Extract the first page of all pdfs in the \"mypdfs \" folder and merge them into one pdf file named \"new.pdf\""
   ]
  },
  {
   "cell_type": "code",
   "execution_count": 3,
   "id": "6b968a8a",
   "metadata": {},
   "outputs": [
    {
     "name": "stdout",
     "output_type": "stream",
     "text": [
      "[WindowsPath('mypdfs/1905.05406.pdf'), WindowsPath('mypdfs/1908.02426.pdf'), WindowsPath('mypdfs/2103.07579.pdf'), WindowsPath('mypdfs/2106.13112.pdf'), WindowsPath('mypdfs/2109.05673.pdf')]\n"
     ]
    }
   ],
   "source": [
    "from pathlib import Path\n",
    " \n",
    "path = Path(r\"mypdfs\")\n",
    "pdf_files = [p for p in path.glob(\"*.pdf\")]\n",
    "print(pdf_files)\n",
    "\n",
    "from PyPDF4 import PdfFileReader, PdfFileMerger, PdfFileWriter\n",
    "newfilelist = []\n",
    "for file in pdf_files: \n",
    "    with open(file, \"rb\") as pdf_file: \n",
    "        pdf = PdfFileReader(pdf_file) \n",
    "        page = pdf.getPage(0) \n",
    "    \n",
    "        writer = PdfFileWriter() \n",
    "        writer.addPage(page) \n",
    "    \n",
    "\n",
    "        newfile = file.name[:-4]+'_new.pdf'\n",
    "        newfilelist.append(newfile)\n",
    "        with open(newfile, \"wb\") as output:\n",
    "             writer.write(output)\n",
    "\n",
    "merger = PdfFileMerger()\n",
    "for file_name in newfilelist:\n",
    "    merger.append(file_name)\n",
    "merger.write(\"new.pdf\")\n",
    "merger.close()\n",
    "\n",
    "import os\n",
    "for file_name in newfilelist:\n",
    "    os.remove(file_name)"
   ]
  },
  {
   "cell_type": "markdown",
   "id": "a851ae99",
   "metadata": {},
   "source": [
    "#### HW2 Take the abstracts of the first 20 papers in the given URL, translate them into Chinese, and write them into the file named 'my_abstract.txt’. \n",
    "##### URL = https://openaccess.thecvf.com/ICCV2021?day=2021-10-12"
   ]
  },
  {
   "cell_type": "code",
   "execution_count": 5,
   "id": "7c88d5cb",
   "metadata": {},
   "outputs": [],
   "source": [
    "import os\n",
    "import requests\n",
    "from bs4 import BeautifulSoup\n",
    "import re\n",
    "\n",
    "def get_paper_links(url):\n",
    "    response = requests.get(url)\n",
    "    bs = BeautifulSoup(response.text, \"html.parser\")\n",
    "    links = bs.find_all(href=re.compile('/papers/.*.pdf'))\n",
    "    paper_links = [\"https://openaccess.thecvf.com\" + link.get('href') for link in links[:20]]\n",
    "    return paper_links\n",
    "\n",
    "def main():\n",
    "    url = \"https://openaccess.thecvf.com/ICCV2021?day=2021-10-12\"\n",
    "    paper_links = get_paper_links(url)\n",
    "    directory = \"ICCV\"\n",
    "\n",
    "    if not os.path.exists(directory):\n",
    "        os.makedirs(directory)\n",
    "\n",
    "    for i, link in enumerate(paper_links):\n",
    "        response = requests.get(link)\n",
    "        with open(os.path.join(directory, f'paper{i+1}.pdf'), 'wb') as f:\n",
    "            f.write(response.content)\n",
    "\n",
    "if __name__ == \"__main__\":\n",
    "    main()"
   ]
  },
  {
   "cell_type": "code",
   "execution_count": 6,
   "id": "f1cfef8f",
   "metadata": {},
   "outputs": [],
   "source": [
    "import fitz  # PyMuPDF\n",
    "from translate import Translator\n",
    "\n",
    "def extract_pdf_abstract(pdf_path):\n",
    "    # Extract text from the first page of the PDF\n",
    "    doc = fitz.open(pdf_path)\n",
    "    first_page = doc.load_page(0)\n",
    "    text = first_page.get_text()\n",
    "    doc.close()\n",
    "    return text\n",
    "\n",
    "def translate_text(text, target_language='zh-cn'):\n",
    "    # Translate text using the translate library\n",
    "    translator= Translator(to_lang=target_language)\n",
    "    translation = translator.translate(text)\n",
    "    return translation\n",
    "\n",
    "def main():\n",
    "    pdf_files = ['./ICCV/' + file for file in os.listdir('./ICCV/')]\n",
    "    translated_abstracts = []\n",
    "\n",
    "\n",
    "    for pdf_file in pdf_files:\n",
    "        abstract = extract_pdf_abstract(pdf_file)\n",
    "        translated_abstract = translate_text(abstract[:500])\n",
    "        translated_abstracts.append(translated_abstract)\n",
    "\n",
    "    # Write translated abstracts to a file\n",
    "    with open('my_abstract.txt', 'w', encoding='utf-8') as file:\n",
    "        for i, translated_abstract in enumerate(translated_abstracts):\n",
    "            file.write(f'Paper {i + 1}:\\n')\n",
    "            file.write(translated_abstract + '\\n\\n')\n",
    "\n",
    "if __name__ == \"__main__\":\n",
    "    main()\n"
   ]
  },
  {
   "cell_type": "code",
   "execution_count": null,
   "id": "cc13f85a",
   "metadata": {},
   "outputs": [],
   "source": []
  }
 ],
 "metadata": {
  "kernelspec": {
   "display_name": "Python 3 (ipykernel)",
   "language": "python",
   "name": "python3"
  },
  "language_info": {
   "codemirror_mode": {
    "name": "ipython",
    "version": 3
   },
   "file_extension": ".py",
   "mimetype": "text/x-python",
   "name": "python",
   "nbconvert_exporter": "python",
   "pygments_lexer": "ipython3",
   "version": "3.9.12"
  }
 },
 "nbformat": 4,
 "nbformat_minor": 5
}
